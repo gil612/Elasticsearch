{
 "cells": [
  {
   "cell_type": "code",
   "execution_count": 2,
   "id": "13f672ac-3c61-44d2-8dfc-da5e0cda96f7",
   "metadata": {},
   "outputs": [],
   "source": [
    "import spacy\n",
    "import glob\n",
    "from pathlib import Path\n",
    "import json"
   ]
  },
  {
   "cell_type": "markdown",
   "id": "6e21aff8-79a6-448f-b0fd-848d008e8263",
   "metadata": {},
   "source": [
    "### Convert .txt files to JSON"
   ]
  },
  {
   "cell_type": "code",
   "execution_count": 3,
   "id": "f2e8e689-654a-4212-85c6-0b21ed17eb75",
   "metadata": {},
   "outputs": [],
   "source": [
    "def write_json(_title,_lines,t_id):\n",
    "\n",
    "    text = []\n",
    "    labels = {}\n",
    "\n",
    "    for line in _lines:\n",
    "        sen = line\n",
    "        if sen != '\\n':\n",
    "            sen = sen.replace(\"\\n\",\"\")\n",
    "            sen = sen.replace(\"\\\\\",\"\")\n",
    "            text.append(sen)\n",
    "        doc = nlp(sen)\n",
    "        for ent in doc.ents:\n",
    "            if ent.label_ in labels:\n",
    "                if not (ent.text in labels[ent.label_]):\n",
    "                    labels[ent.label_].append(ent.text)\n",
    "            else:\n",
    "                labels[ent.label_] = [ent.text]\n",
    "    document = {\n",
    "        \"id\" : int(t_id),\n",
    "        \"title\" : _title,\n",
    "        'labels' : labels,\n",
    "        'text' : text}\n",
    "\n",
    "    \n",
    "    newfilepath = f\"bbcsport-fulltext/bbcsport/athletics/JSON/{t_id}.json\"\n",
    "    with open(newfilepath, \"w\") as outfile:\n",
    "        json.dump(document, outfile)"
   ]
  },
  {
   "cell_type": "code",
   "execution_count": 4,
   "id": "5b6059e2-f3ae-4856-937a-59036287c6c7",
   "metadata": {},
   "outputs": [
    {
     "name": "stderr",
     "output_type": "stream",
     "text": [
      "C:\\Users\\rsupe\\anaconda3\\lib\\site-packages\\spacy\\util.py:910: UserWarning: [W095] Model 'en_core_web_sm' (3.5.0) was trained with spaCy v3.5.0 and may not be 100% compatible with the current version (3.6.1). If you see errors or degraded performance, download a newer compatible model or retrain your custom model with the current spaCy version. For more details and available updates, run: python -m spacy validate\n",
      "  warnings.warn(warn_msg)\n"
     ]
    }
   ],
   "source": [
    "nlp = spacy.load(\"en_core_web_sm\")\n",
    "for filepath in glob.iglob('data/*.txt'):\n",
    "    with open(filepath, encoding=\"utf8\") as f:\n",
    "        _id = Path(filepath).stem\n",
    "        title = f.readline()\n",
    "        lines = f.readlines()\n",
    "        write_json(title[:-1],lines, _id)"
   ]
  }
 ],
 "metadata": {
  "kernelspec": {
   "display_name": "Python 3 (ipykernel)",
   "language": "python",
   "name": "python3"
  },
  "language_info": {
   "codemirror_mode": {
    "name": "ipython",
    "version": 3
   },
   "file_extension": ".py",
   "mimetype": "text/x-python",
   "name": "python",
   "nbconvert_exporter": "python",
   "pygments_lexer": "ipython3",
   "version": "3.9.12"
  }
 },
 "nbformat": 4,
 "nbformat_minor": 5
}
